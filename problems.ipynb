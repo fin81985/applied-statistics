{
 "cells": [
  {
   "cell_type": "markdown",
   "id": "6017abd3",
   "metadata": {},
   "source": [
    "# Assessment Problems"
   ]
  },
  {
   "cell_type": "markdown",
   "id": "bca75a70",
   "metadata": {},
   "source": [
    "## Problem 1: Extending the Lady Tasting Tea"
   ]
  },
  {
   "cell_type": "code",
   "execution_count": null,
   "id": "a400239f",
   "metadata": {},
   "outputs": [],
   "source": [
    "# problem 1 : Lady Tasting Tea experiment\n",
    "# Author: Finian Doonan"
   ]
  },
  {
   "cell_type": "markdown",
   "id": "c4cf6898",
   "metadata": {},
   "source": [
    "##  give explanations and insights into your code"
   ]
  },
  {
   "cell_type": "markdown",
   "id": "71804b12",
   "metadata": {},
   "source": [
    "## Problem 2: Normal Distribution"
   ]
  },
  {
   "cell_type": "code",
   "execution_count": null,
   "id": "74e8a2f5",
   "metadata": {},
   "outputs": [],
   "source": [
    "# problem 2: Normal Distribution\n",
    "# Author: Finian Doonan"
   ]
  },
  {
   "cell_type": "markdown",
   "id": "520ab7a1",
   "metadata": {},
   "source": [
    " ## give explanations and insights into your code"
   ]
  },
  {
   "cell_type": "markdown",
   "id": "3316206f",
   "metadata": {},
   "source": [
    "## Problem 3: t-Tests"
   ]
  },
  {
   "cell_type": "code",
   "execution_count": null,
   "id": "de262a40",
   "metadata": {},
   "outputs": [],
   "source": [
    "## problem 3: t-Tests\n",
    "# Author: Finian Doonan"
   ]
  },
  {
   "cell_type": "markdown",
   "id": "7d55b1b0",
   "metadata": {},
   "source": [
    " ## give explanations and insights into your code"
   ]
  },
  {
   "cell_type": "markdown",
   "id": "cdb0b917",
   "metadata": {},
   "source": [
    "## Problem 4: ANOVA"
   ]
  },
  {
   "cell_type": "code",
   "execution_count": null,
   "id": "9a11f716",
   "metadata": {},
   "outputs": [],
   "source": [
    "# problem 4: ANOVA\n",
    "# Author: Finian Doonan"
   ]
  },
  {
   "cell_type": "markdown",
   "id": "9f95fb84",
   "metadata": {},
   "source": [
    "## give explanations and insights into your code"
   ]
  },
  {
   "cell_type": "markdown",
   "id": "ed74483e",
   "metadata": {},
   "source": [
    "# End"
   ]
  }
 ],
 "metadata": {
  "language_info": {
   "name": "python"
  }
 },
 "nbformat": 4,
 "nbformat_minor": 5
}
