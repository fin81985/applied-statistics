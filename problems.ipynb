{
 "cells": [
  {
   "cell_type": "markdown",
   "id": "6017abd3",
   "metadata": {},
   "source": [
    "# Assessment Problems"
   ]
  },
  {
   "cell_type": "markdown",
   "id": "bca75a70",
   "metadata": {},
   "source": [
    "## Problem 1: Extending the Lady Tasting Tea"
   ]
  },
  {
   "cell_type": "code",
   "execution_count": 162,
   "id": "8b175cb5",
   "metadata": {},
   "outputs": [],
   "source": [
    "# problem 1 : Lady Tasting Tea experiment\n",
    "# Author: Finian Doonan"
   ]
  },
  {
   "cell_type": "markdown",
   "id": "205d75b8",
   "metadata": {},
   "source": [
    "## Simulating the “Tea-First vs Milk-First” Experiment\n",
    "\n",
    "A participant claims they can tell which of 12 cups were poured **tea-first** versus **milk-first**.  \n",
    "\n",
    "We will simulate this experiment to estimate the probability of correctly identifying all cups **by chance**.\n",
    "\n",
    "### Steps\n",
    "\n",
    "1. **Prepare the cups**\n",
    "   - Total cups: 12\n",
    "   - Tea-first: 8 cups\n",
    "   - Milk-first: 4 cups\n",
    "\n",
    "2. **Simulation procedure**\n",
    "   - Randomly **shuffle the cups** to simulate a participant guessing\n",
    "   - Repeat this process **many times** (e.g., 100,000 simulations)\n",
    "   - For each shuffle, check if the participant **correctly identifies all 12 cups**\n",
    "   - Record the proportion of successful guesses  \n",
    "     → This gives the **probability of guessing all cups correctly by chance**\n",
    "\n",
    "3. **Comparison**\n",
    "   - Compare this probability with the **original 8-cup experiment**\n",
    "   - Observe how increasing the number of cups **reduces the chance of guessing correctly**\n",
    "\n",
    "### Objective\n",
    "\n",
    "This simulation illustrates:\n",
    "- How **random chance affects experimental outcomes**\n",
    "- How **increasing the number of trials** makes it harder to succeed purely by guessing\n",
    "- The importance of **simulating experiments** to estimate probabilities in complex scenarios\n"
   ]
  },
  {
   "cell_type": "code",
   "execution_count": 163,
   "id": "70fe3866",
   "metadata": {},
   "outputs": [],
   "source": [
    "\n",
    "# Mathematical functions from the standard library.\n",
    "# https://docs.python.org/3/library/math.html\n",
    "import math\n",
    "\n",
    "# Permutations and combinations.\n",
    "# https://docs.python.org/3/library/itertools.html\n",
    "import itertools\n",
    "\n",
    "# Random selections.\n",
    "# https://docs.python.org/3/library/random.html\n",
    "import random\n",
    "\n",
    "# Numerical structures and operations.\n",
    "# https://numpy.org/doc/stable/reference/index.html#reference\n",
    "import numpy as np\n",
    "\n",
    "# Plotting.\n",
    "# https://matplotlib.org/stable/contents.html\n",
    "import matplotlib.pyplot as plt\n"
   ]
  },
  {
   "cell_type": "markdown",
   "id": "f868aea9",
   "metadata": {},
   "source": [
    "## Permutations and combinations."
   ]
  },
  {
   "cell_type": "code",
   "execution_count": 164,
   "id": "ce821b8a",
   "metadata": {},
   "outputs": [],
   "source": [
    "# Number of cups of tea in total.\n",
    "no_cups = 12\n",
    "\n",
    "# Number of cups of tea with milk in first.\n",
    "no_cups_milk_first = 4\n",
    "\n",
    "# Number of cups of tea with tea in first.\n",
    "no_cups_tea_first = 8\n",
    "no_cups_tea_first = 4"
   ]
  },
  {
   "cell_type": "markdown",
   "id": "de2bbb43",
   "metadata": {},
   "source": [
    "## Formula\n",
    "\n",
    "In mathematics, the `math.comb()` function is called the *choose* function.\n",
    "\n",
    "It is written and calculated as\n",
    "\n",
    "$\\binom{n}{k} = \\frac{n!}{k!(n-k)!}$.\n"
   ]
  },
  {
   "cell_type": "code",
   "execution_count": 165,
   "id": "a400239f",
   "metadata": {},
   "outputs": [],
   "source": [
    "# Number of cups of tea in total.\n",
    "n = 12"
   ]
  },
  {
   "cell_type": "code",
   "execution_count": 166,
   "id": "fbc18584",
   "metadata": {},
   "outputs": [],
   "source": [
    "# Number of cups of tea with milk in first.\n",
    "k = 4"
   ]
  },
  {
   "cell_type": "code",
   "execution_count": 167,
   "id": "85091b54",
   "metadata": {},
   "outputs": [
    {
     "data": {
      "text/plain": [
       "495"
      ]
     },
     "execution_count": 167,
     "metadata": {},
     "output_type": "execute_result"
    }
   ],
   "source": [
    "# Number of ways of selecting four cups from eight.\n",
    "ways = math.comb(no_cups, no_cups_milk_first)\n",
    "\n",
    "# Show.\n",
    "ways"
   ]
  },
  {
   "cell_type": "code",
   "execution_count": 168,
   "id": "f81dfdaf",
   "metadata": {},
   "outputs": [
    {
     "data": {
      "text/plain": [
       "1680"
      ]
     },
     "execution_count": 168,
     "metadata": {},
     "output_type": "execute_result"
    }
   ],
   "source": [
    "# Total number of ways of selecting four cups from eight, keeping them in order.\n",
    "ways_ordered = 8 * 7 * 6 * 5\n",
    "\n",
    "# Show.\n",
    "ways_ordered"
   ]
  },
  {
   "cell_type": "code",
   "execution_count": 169,
   "id": "5667ec61",
   "metadata": {},
   "outputs": [
    {
     "data": {
      "text/plain": [
       "24"
      ]
     },
     "execution_count": 169,
     "metadata": {},
     "output_type": "execute_result"
    }
   ],
   "source": [
    "# No of ways of shuffling four cups.\n",
    "no_shuffles = 4 * 3 * 2 * 1\n",
    "\n",
    "# Show.\n",
    "no_shuffles"
   ]
  },
  {
   "cell_type": "code",
   "execution_count": 170,
   "id": "01899ce8",
   "metadata": {},
   "outputs": [
    {
     "data": {
      "text/plain": [
       "70"
      ]
     },
     "execution_count": 170,
     "metadata": {},
     "output_type": "execute_result"
    }
   ],
   "source": [
    "# No of combinations.\n",
    "no_combs = ways_ordered // no_shuffles\n",
    "\n",
    "# Show.\n",
    "no_combs"
   ]
  },
  {
   "cell_type": "markdown",
   "id": "e0b5c9f8",
   "metadata": {},
   "source": [
    "## math.factorial\n",
    "\n",
    "https://docs.python.org/3.12/library/math.html#math.factorial\n",
    "\n",
    "Mathematically denoted as `n!`.\n",
    "\n",
    "Multiply all positive integers from `n` down to 1.\n",
    "\n",
    "\n",
    "`n! = n x (n - 1) x (n - 2) x ... x 1`\n",
    "\n",
    "e.g. `5! = 5 x 4 x 3 x 2 x 1 = 120`"
   ]
  },
  {
   "cell_type": "code",
   "execution_count": 171,
   "id": "bf28750b",
   "metadata": {},
   "outputs": [
    {
     "data": {
      "text/plain": [
       "479001600"
      ]
     },
     "execution_count": 171,
     "metadata": {},
     "output_type": "execute_result"
    }
   ],
   "source": [
    "# Eight factorial.\n",
    "math.factorial(n)"
   ]
  },
  {
   "cell_type": "code",
   "execution_count": 172,
   "id": "53c7309f",
   "metadata": {},
   "outputs": [
    {
     "data": {
      "text/plain": [
       "24"
      ]
     },
     "execution_count": 172,
     "metadata": {},
     "output_type": "execute_result"
    }
   ],
   "source": [
    "# Four factorial.\n",
    "math.factorial(k)"
   ]
  },
  {
   "cell_type": "code",
   "execution_count": 173,
   "id": "7a1ba2ca",
   "metadata": {},
   "outputs": [
    {
     "data": {
      "text/plain": [
       "40320"
      ]
     },
     "execution_count": 173,
     "metadata": {},
     "output_type": "execute_result"
    }
   ],
   "source": [
    "# Four factorial.\n",
    "math.factorial(n - k)"
   ]
  },
  {
   "cell_type": "code",
   "execution_count": 174,
   "id": "1df660e2",
   "metadata": {},
   "outputs": [
    {
     "data": {
      "text/plain": [
       "495"
      ]
     },
     "execution_count": 174,
     "metadata": {},
     "output_type": "execute_result"
    }
   ],
   "source": [
    "# No of ways of selecting k objects from n without replacement and without order.\n",
    "math.factorial(n) // (math.factorial(k) * math.factorial(n - k))#"
   ]
  },
  {
   "cell_type": "code",
   "execution_count": 175,
   "id": "16664f70",
   "metadata": {},
   "outputs": [
    {
     "data": {
      "text/plain": [
       "[0, 1, 2, 3, 4, 5, 6, 7, 8, 9, 10, 11]"
      ]
     },
     "execution_count": 175,
     "metadata": {},
     "output_type": "execute_result"
    }
   ],
   "source": [
    "# The cup labels.\n",
    "labels = list(range(no_cups))\n",
    "\n",
    "# Show.\n",
    "labels"
   ]
  },
  {
   "cell_type": "code",
   "execution_count": 176,
   "id": "39f47453",
   "metadata": {},
   "outputs": [
    {
     "data": {
      "text/plain": [
       "array([ 5,  8,  4,  2, 10,  6,  3,  1, 11,  7,  9,  0])"
      ]
     },
     "execution_count": 176,
     "metadata": {},
     "output_type": "execute_result"
    }
   ],
   "source": [
    "# Correct usage: pass the sequence (or an integer) to np.random.permutation.\n",
    "# Use the existing `labels` list to get a shuffled ordering of the cups.\n",
    "shuffled = np.random.permutation(labels)\n",
    "shuffled"
   ]
  },
  {
   "cell_type": "code",
   "execution_count": 177,
   "id": "99626e1f",
   "metadata": {},
   "outputs": [
    {
     "data": {
      "text/plain": [
       "[(0, 1, 2, 3),\n",
       " (0, 1, 2, 4),\n",
       " (0, 1, 2, 5),\n",
       " (0, 1, 2, 6),\n",
       " (0, 1, 2, 7),\n",
       " (0, 1, 2, 8),\n",
       " (0, 1, 2, 9),\n",
       " (0, 1, 2, 10),\n",
       " (0, 1, 2, 11),\n",
       " (0, 1, 3, 4),\n",
       " (0, 1, 3, 5),\n",
       " (0, 1, 3, 6),\n",
       " (0, 1, 3, 7),\n",
       " (0, 1, 3, 8),\n",
       " (0, 1, 3, 9),\n",
       " (0, 1, 3, 10),\n",
       " (0, 1, 3, 11),\n",
       " (0, 1, 4, 5),\n",
       " (0, 1, 4, 6),\n",
       " (0, 1, 4, 7),\n",
       " (0, 1, 4, 8),\n",
       " (0, 1, 4, 9),\n",
       " (0, 1, 4, 10),\n",
       " (0, 1, 4, 11),\n",
       " (0, 1, 5, 6),\n",
       " (0, 1, 5, 7),\n",
       " (0, 1, 5, 8),\n",
       " (0, 1, 5, 9),\n",
       " (0, 1, 5, 10),\n",
       " (0, 1, 5, 11),\n",
       " (0, 1, 6, 7),\n",
       " (0, 1, 6, 8),\n",
       " (0, 1, 6, 9),\n",
       " (0, 1, 6, 10),\n",
       " (0, 1, 6, 11),\n",
       " (0, 1, 7, 8),\n",
       " (0, 1, 7, 9),\n",
       " (0, 1, 7, 10),\n",
       " (0, 1, 7, 11),\n",
       " (0, 1, 8, 9),\n",
       " (0, 1, 8, 10),\n",
       " (0, 1, 8, 11),\n",
       " (0, 1, 9, 10),\n",
       " (0, 1, 9, 11),\n",
       " (0, 1, 10, 11),\n",
       " (0, 2, 3, 4),\n",
       " (0, 2, 3, 5),\n",
       " (0, 2, 3, 6),\n",
       " (0, 2, 3, 7),\n",
       " (0, 2, 3, 8),\n",
       " (0, 2, 3, 9),\n",
       " (0, 2, 3, 10),\n",
       " (0, 2, 3, 11),\n",
       " (0, 2, 4, 5),\n",
       " (0, 2, 4, 6),\n",
       " (0, 2, 4, 7),\n",
       " (0, 2, 4, 8),\n",
       " (0, 2, 4, 9),\n",
       " (0, 2, 4, 10),\n",
       " (0, 2, 4, 11),\n",
       " (0, 2, 5, 6),\n",
       " (0, 2, 5, 7),\n",
       " (0, 2, 5, 8),\n",
       " (0, 2, 5, 9),\n",
       " (0, 2, 5, 10),\n",
       " (0, 2, 5, 11),\n",
       " (0, 2, 6, 7),\n",
       " (0, 2, 6, 8),\n",
       " (0, 2, 6, 9),\n",
       " (0, 2, 6, 10),\n",
       " (0, 2, 6, 11),\n",
       " (0, 2, 7, 8),\n",
       " (0, 2, 7, 9),\n",
       " (0, 2, 7, 10),\n",
       " (0, 2, 7, 11),\n",
       " (0, 2, 8, 9),\n",
       " (0, 2, 8, 10),\n",
       " (0, 2, 8, 11),\n",
       " (0, 2, 9, 10),\n",
       " (0, 2, 9, 11),\n",
       " (0, 2, 10, 11),\n",
       " (0, 3, 4, 5),\n",
       " (0, 3, 4, 6),\n",
       " (0, 3, 4, 7),\n",
       " (0, 3, 4, 8),\n",
       " (0, 3, 4, 9),\n",
       " (0, 3, 4, 10),\n",
       " (0, 3, 4, 11),\n",
       " (0, 3, 5, 6),\n",
       " (0, 3, 5, 7),\n",
       " (0, 3, 5, 8),\n",
       " (0, 3, 5, 9),\n",
       " (0, 3, 5, 10),\n",
       " (0, 3, 5, 11),\n",
       " (0, 3, 6, 7),\n",
       " (0, 3, 6, 8),\n",
       " (0, 3, 6, 9),\n",
       " (0, 3, 6, 10),\n",
       " (0, 3, 6, 11),\n",
       " (0, 3, 7, 8),\n",
       " (0, 3, 7, 9),\n",
       " (0, 3, 7, 10),\n",
       " (0, 3, 7, 11),\n",
       " (0, 3, 8, 9),\n",
       " (0, 3, 8, 10),\n",
       " (0, 3, 8, 11),\n",
       " (0, 3, 9, 10),\n",
       " (0, 3, 9, 11),\n",
       " (0, 3, 10, 11),\n",
       " (0, 4, 5, 6),\n",
       " (0, 4, 5, 7),\n",
       " (0, 4, 5, 8),\n",
       " (0, 4, 5, 9),\n",
       " (0, 4, 5, 10),\n",
       " (0, 4, 5, 11),\n",
       " (0, 4, 6, 7),\n",
       " (0, 4, 6, 8),\n",
       " (0, 4, 6, 9),\n",
       " (0, 4, 6, 10),\n",
       " (0, 4, 6, 11),\n",
       " (0, 4, 7, 8),\n",
       " (0, 4, 7, 9),\n",
       " (0, 4, 7, 10),\n",
       " (0, 4, 7, 11),\n",
       " (0, 4, 8, 9),\n",
       " (0, 4, 8, 10),\n",
       " (0, 4, 8, 11),\n",
       " (0, 4, 9, 10),\n",
       " (0, 4, 9, 11),\n",
       " (0, 4, 10, 11),\n",
       " (0, 5, 6, 7),\n",
       " (0, 5, 6, 8),\n",
       " (0, 5, 6, 9),\n",
       " (0, 5, 6, 10),\n",
       " (0, 5, 6, 11),\n",
       " (0, 5, 7, 8),\n",
       " (0, 5, 7, 9),\n",
       " (0, 5, 7, 10),\n",
       " (0, 5, 7, 11),\n",
       " (0, 5, 8, 9),\n",
       " (0, 5, 8, 10),\n",
       " (0, 5, 8, 11),\n",
       " (0, 5, 9, 10),\n",
       " (0, 5, 9, 11),\n",
       " (0, 5, 10, 11),\n",
       " (0, 6, 7, 8),\n",
       " (0, 6, 7, 9),\n",
       " (0, 6, 7, 10),\n",
       " (0, 6, 7, 11),\n",
       " (0, 6, 8, 9),\n",
       " (0, 6, 8, 10),\n",
       " (0, 6, 8, 11),\n",
       " (0, 6, 9, 10),\n",
       " (0, 6, 9, 11),\n",
       " (0, 6, 10, 11),\n",
       " (0, 7, 8, 9),\n",
       " (0, 7, 8, 10),\n",
       " (0, 7, 8, 11),\n",
       " (0, 7, 9, 10),\n",
       " (0, 7, 9, 11),\n",
       " (0, 7, 10, 11),\n",
       " (0, 8, 9, 10),\n",
       " (0, 8, 9, 11),\n",
       " (0, 8, 10, 11),\n",
       " (0, 9, 10, 11),\n",
       " (1, 2, 3, 4),\n",
       " (1, 2, 3, 5),\n",
       " (1, 2, 3, 6),\n",
       " (1, 2, 3, 7),\n",
       " (1, 2, 3, 8),\n",
       " (1, 2, 3, 9),\n",
       " (1, 2, 3, 10),\n",
       " (1, 2, 3, 11),\n",
       " (1, 2, 4, 5),\n",
       " (1, 2, 4, 6),\n",
       " (1, 2, 4, 7),\n",
       " (1, 2, 4, 8),\n",
       " (1, 2, 4, 9),\n",
       " (1, 2, 4, 10),\n",
       " (1, 2, 4, 11),\n",
       " (1, 2, 5, 6),\n",
       " (1, 2, 5, 7),\n",
       " (1, 2, 5, 8),\n",
       " (1, 2, 5, 9),\n",
       " (1, 2, 5, 10),\n",
       " (1, 2, 5, 11),\n",
       " (1, 2, 6, 7),\n",
       " (1, 2, 6, 8),\n",
       " (1, 2, 6, 9),\n",
       " (1, 2, 6, 10),\n",
       " (1, 2, 6, 11),\n",
       " (1, 2, 7, 8),\n",
       " (1, 2, 7, 9),\n",
       " (1, 2, 7, 10),\n",
       " (1, 2, 7, 11),\n",
       " (1, 2, 8, 9),\n",
       " (1, 2, 8, 10),\n",
       " (1, 2, 8, 11),\n",
       " (1, 2, 9, 10),\n",
       " (1, 2, 9, 11),\n",
       " (1, 2, 10, 11),\n",
       " (1, 3, 4, 5),\n",
       " (1, 3, 4, 6),\n",
       " (1, 3, 4, 7),\n",
       " (1, 3, 4, 8),\n",
       " (1, 3, 4, 9),\n",
       " (1, 3, 4, 10),\n",
       " (1, 3, 4, 11),\n",
       " (1, 3, 5, 6),\n",
       " (1, 3, 5, 7),\n",
       " (1, 3, 5, 8),\n",
       " (1, 3, 5, 9),\n",
       " (1, 3, 5, 10),\n",
       " (1, 3, 5, 11),\n",
       " (1, 3, 6, 7),\n",
       " (1, 3, 6, 8),\n",
       " (1, 3, 6, 9),\n",
       " (1, 3, 6, 10),\n",
       " (1, 3, 6, 11),\n",
       " (1, 3, 7, 8),\n",
       " (1, 3, 7, 9),\n",
       " (1, 3, 7, 10),\n",
       " (1, 3, 7, 11),\n",
       " (1, 3, 8, 9),\n",
       " (1, 3, 8, 10),\n",
       " (1, 3, 8, 11),\n",
       " (1, 3, 9, 10),\n",
       " (1, 3, 9, 11),\n",
       " (1, 3, 10, 11),\n",
       " (1, 4, 5, 6),\n",
       " (1, 4, 5, 7),\n",
       " (1, 4, 5, 8),\n",
       " (1, 4, 5, 9),\n",
       " (1, 4, 5, 10),\n",
       " (1, 4, 5, 11),\n",
       " (1, 4, 6, 7),\n",
       " (1, 4, 6, 8),\n",
       " (1, 4, 6, 9),\n",
       " (1, 4, 6, 10),\n",
       " (1, 4, 6, 11),\n",
       " (1, 4, 7, 8),\n",
       " (1, 4, 7, 9),\n",
       " (1, 4, 7, 10),\n",
       " (1, 4, 7, 11),\n",
       " (1, 4, 8, 9),\n",
       " (1, 4, 8, 10),\n",
       " (1, 4, 8, 11),\n",
       " (1, 4, 9, 10),\n",
       " (1, 4, 9, 11),\n",
       " (1, 4, 10, 11),\n",
       " (1, 5, 6, 7),\n",
       " (1, 5, 6, 8),\n",
       " (1, 5, 6, 9),\n",
       " (1, 5, 6, 10),\n",
       " (1, 5, 6, 11),\n",
       " (1, 5, 7, 8),\n",
       " (1, 5, 7, 9),\n",
       " (1, 5, 7, 10),\n",
       " (1, 5, 7, 11),\n",
       " (1, 5, 8, 9),\n",
       " (1, 5, 8, 10),\n",
       " (1, 5, 8, 11),\n",
       " (1, 5, 9, 10),\n",
       " (1, 5, 9, 11),\n",
       " (1, 5, 10, 11),\n",
       " (1, 6, 7, 8),\n",
       " (1, 6, 7, 9),\n",
       " (1, 6, 7, 10),\n",
       " (1, 6, 7, 11),\n",
       " (1, 6, 8, 9),\n",
       " (1, 6, 8, 10),\n",
       " (1, 6, 8, 11),\n",
       " (1, 6, 9, 10),\n",
       " (1, 6, 9, 11),\n",
       " (1, 6, 10, 11),\n",
       " (1, 7, 8, 9),\n",
       " (1, 7, 8, 10),\n",
       " (1, 7, 8, 11),\n",
       " (1, 7, 9, 10),\n",
       " (1, 7, 9, 11),\n",
       " (1, 7, 10, 11),\n",
       " (1, 8, 9, 10),\n",
       " (1, 8, 9, 11),\n",
       " (1, 8, 10, 11),\n",
       " (1, 9, 10, 11),\n",
       " (2, 3, 4, 5),\n",
       " (2, 3, 4, 6),\n",
       " (2, 3, 4, 7),\n",
       " (2, 3, 4, 8),\n",
       " (2, 3, 4, 9),\n",
       " (2, 3, 4, 10),\n",
       " (2, 3, 4, 11),\n",
       " (2, 3, 5, 6),\n",
       " (2, 3, 5, 7),\n",
       " (2, 3, 5, 8),\n",
       " (2, 3, 5, 9),\n",
       " (2, 3, 5, 10),\n",
       " (2, 3, 5, 11),\n",
       " (2, 3, 6, 7),\n",
       " (2, 3, 6, 8),\n",
       " (2, 3, 6, 9),\n",
       " (2, 3, 6, 10),\n",
       " (2, 3, 6, 11),\n",
       " (2, 3, 7, 8),\n",
       " (2, 3, 7, 9),\n",
       " (2, 3, 7, 10),\n",
       " (2, 3, 7, 11),\n",
       " (2, 3, 8, 9),\n",
       " (2, 3, 8, 10),\n",
       " (2, 3, 8, 11),\n",
       " (2, 3, 9, 10),\n",
       " (2, 3, 9, 11),\n",
       " (2, 3, 10, 11),\n",
       " (2, 4, 5, 6),\n",
       " (2, 4, 5, 7),\n",
       " (2, 4, 5, 8),\n",
       " (2, 4, 5, 9),\n",
       " (2, 4, 5, 10),\n",
       " (2, 4, 5, 11),\n",
       " (2, 4, 6, 7),\n",
       " (2, 4, 6, 8),\n",
       " (2, 4, 6, 9),\n",
       " (2, 4, 6, 10),\n",
       " (2, 4, 6, 11),\n",
       " (2, 4, 7, 8),\n",
       " (2, 4, 7, 9),\n",
       " (2, 4, 7, 10),\n",
       " (2, 4, 7, 11),\n",
       " (2, 4, 8, 9),\n",
       " (2, 4, 8, 10),\n",
       " (2, 4, 8, 11),\n",
       " (2, 4, 9, 10),\n",
       " (2, 4, 9, 11),\n",
       " (2, 4, 10, 11),\n",
       " (2, 5, 6, 7),\n",
       " (2, 5, 6, 8),\n",
       " (2, 5, 6, 9),\n",
       " (2, 5, 6, 10),\n",
       " (2, 5, 6, 11),\n",
       " (2, 5, 7, 8),\n",
       " (2, 5, 7, 9),\n",
       " (2, 5, 7, 10),\n",
       " (2, 5, 7, 11),\n",
       " (2, 5, 8, 9),\n",
       " (2, 5, 8, 10),\n",
       " (2, 5, 8, 11),\n",
       " (2, 5, 9, 10),\n",
       " (2, 5, 9, 11),\n",
       " (2, 5, 10, 11),\n",
       " (2, 6, 7, 8),\n",
       " (2, 6, 7, 9),\n",
       " (2, 6, 7, 10),\n",
       " (2, 6, 7, 11),\n",
       " (2, 6, 8, 9),\n",
       " (2, 6, 8, 10),\n",
       " (2, 6, 8, 11),\n",
       " (2, 6, 9, 10),\n",
       " (2, 6, 9, 11),\n",
       " (2, 6, 10, 11),\n",
       " (2, 7, 8, 9),\n",
       " (2, 7, 8, 10),\n",
       " (2, 7, 8, 11),\n",
       " (2, 7, 9, 10),\n",
       " (2, 7, 9, 11),\n",
       " (2, 7, 10, 11),\n",
       " (2, 8, 9, 10),\n",
       " (2, 8, 9, 11),\n",
       " (2, 8, 10, 11),\n",
       " (2, 9, 10, 11),\n",
       " (3, 4, 5, 6),\n",
       " (3, 4, 5, 7),\n",
       " (3, 4, 5, 8),\n",
       " (3, 4, 5, 9),\n",
       " (3, 4, 5, 10),\n",
       " (3, 4, 5, 11),\n",
       " (3, 4, 6, 7),\n",
       " (3, 4, 6, 8),\n",
       " (3, 4, 6, 9),\n",
       " (3, 4, 6, 10),\n",
       " (3, 4, 6, 11),\n",
       " (3, 4, 7, 8),\n",
       " (3, 4, 7, 9),\n",
       " (3, 4, 7, 10),\n",
       " (3, 4, 7, 11),\n",
       " (3, 4, 8, 9),\n",
       " (3, 4, 8, 10),\n",
       " (3, 4, 8, 11),\n",
       " (3, 4, 9, 10),\n",
       " (3, 4, 9, 11),\n",
       " (3, 4, 10, 11),\n",
       " (3, 5, 6, 7),\n",
       " (3, 5, 6, 8),\n",
       " (3, 5, 6, 9),\n",
       " (3, 5, 6, 10),\n",
       " (3, 5, 6, 11),\n",
       " (3, 5, 7, 8),\n",
       " (3, 5, 7, 9),\n",
       " (3, 5, 7, 10),\n",
       " (3, 5, 7, 11),\n",
       " (3, 5, 8, 9),\n",
       " (3, 5, 8, 10),\n",
       " (3, 5, 8, 11),\n",
       " (3, 5, 9, 10),\n",
       " (3, 5, 9, 11),\n",
       " (3, 5, 10, 11),\n",
       " (3, 6, 7, 8),\n",
       " (3, 6, 7, 9),\n",
       " (3, 6, 7, 10),\n",
       " (3, 6, 7, 11),\n",
       " (3, 6, 8, 9),\n",
       " (3, 6, 8, 10),\n",
       " (3, 6, 8, 11),\n",
       " (3, 6, 9, 10),\n",
       " (3, 6, 9, 11),\n",
       " (3, 6, 10, 11),\n",
       " (3, 7, 8, 9),\n",
       " (3, 7, 8, 10),\n",
       " (3, 7, 8, 11),\n",
       " (3, 7, 9, 10),\n",
       " (3, 7, 9, 11),\n",
       " (3, 7, 10, 11),\n",
       " (3, 8, 9, 10),\n",
       " (3, 8, 9, 11),\n",
       " (3, 8, 10, 11),\n",
       " (3, 9, 10, 11),\n",
       " (4, 5, 6, 7),\n",
       " (4, 5, 6, 8),\n",
       " (4, 5, 6, 9),\n",
       " (4, 5, 6, 10),\n",
       " (4, 5, 6, 11),\n",
       " (4, 5, 7, 8),\n",
       " (4, 5, 7, 9),\n",
       " (4, 5, 7, 10),\n",
       " (4, 5, 7, 11),\n",
       " (4, 5, 8, 9),\n",
       " (4, 5, 8, 10),\n",
       " (4, 5, 8, 11),\n",
       " (4, 5, 9, 10),\n",
       " (4, 5, 9, 11),\n",
       " (4, 5, 10, 11),\n",
       " (4, 6, 7, 8),\n",
       " (4, 6, 7, 9),\n",
       " (4, 6, 7, 10),\n",
       " (4, 6, 7, 11),\n",
       " (4, 6, 8, 9),\n",
       " (4, 6, 8, 10),\n",
       " (4, 6, 8, 11),\n",
       " (4, 6, 9, 10),\n",
       " (4, 6, 9, 11),\n",
       " (4, 6, 10, 11),\n",
       " (4, 7, 8, 9),\n",
       " (4, 7, 8, 10),\n",
       " (4, 7, 8, 11),\n",
       " (4, 7, 9, 10),\n",
       " (4, 7, 9, 11),\n",
       " (4, 7, 10, 11),\n",
       " (4, 8, 9, 10),\n",
       " (4, 8, 9, 11),\n",
       " (4, 8, 10, 11),\n",
       " (4, 9, 10, 11),\n",
       " (5, 6, 7, 8),\n",
       " (5, 6, 7, 9),\n",
       " (5, 6, 7, 10),\n",
       " (5, 6, 7, 11),\n",
       " (5, 6, 8, 9),\n",
       " (5, 6, 8, 10),\n",
       " (5, 6, 8, 11),\n",
       " (5, 6, 9, 10),\n",
       " (5, 6, 9, 11),\n",
       " (5, 6, 10, 11),\n",
       " (5, 7, 8, 9),\n",
       " (5, 7, 8, 10),\n",
       " (5, 7, 8, 11),\n",
       " (5, 7, 9, 10),\n",
       " (5, 7, 9, 11),\n",
       " (5, 7, 10, 11),\n",
       " (5, 8, 9, 10),\n",
       " (5, 8, 9, 11),\n",
       " (5, 8, 10, 11),\n",
       " (5, 9, 10, 11),\n",
       " (6, 7, 8, 9),\n",
       " (6, 7, 8, 10),\n",
       " (6, 7, 8, 11),\n",
       " (6, 7, 9, 10),\n",
       " (6, 7, 9, 11),\n",
       " (6, 7, 10, 11),\n",
       " (6, 8, 9, 10),\n",
       " (6, 8, 9, 11),\n",
       " (6, 8, 10, 11),\n",
       " (6, 9, 10, 11),\n",
       " (7, 8, 9, 10),\n",
       " (7, 8, 9, 11),\n",
       " (7, 8, 10, 11),\n",
       " (7, 9, 10, 11),\n",
       " (8, 9, 10, 11)]"
      ]
     },
     "execution_count": 177,
     "metadata": {},
     "output_type": "execute_result"
    }
   ],
   "source": [
    "# Show the different ways of selecting no_cups_milk_first out of no_cups cups of tea.\n",
    "combs = list(itertools.combinations(labels, no_cups_milk_first))\n",
    "\n",
    "# Show.\n",
    "combs"
   ]
  },
  {
   "cell_type": "code",
   "execution_count": 178,
   "id": "87121393",
   "metadata": {},
   "outputs": [
    {
     "data": {
      "text/plain": [
       "495"
      ]
     },
     "execution_count": 178,
     "metadata": {},
     "output_type": "execute_result"
    }
   ],
   "source": [
    "# Number of combinations.\n",
    "len(combs)"
   ]
  },
  {
   "cell_type": "code",
   "execution_count": 179,
   "id": "dc1c8994",
   "metadata": {},
   "outputs": [
    {
     "data": {
      "text/plain": [
       "[4, 5, 7, 10]"
      ]
     },
     "execution_count": 179,
     "metadata": {},
     "output_type": "execute_result"
    }
   ],
   "source": [
    "# Select four cups at random to put milk in first.\n",
    "# https://docs.python.org/3/library/random.html#random.sample\n",
    "labels_milk = random.sample(labels, 4)\n",
    "\n",
    "# Sort, inplace.\n",
    "labels_milk.sort()\n",
    "\n",
    "# Show.\n",
    "labels_milk"
   ]
  },
  {
   "cell_type": "markdown",
   "id": "48ccbd1e",
   "metadata": {},
   "source": [
    "## The Null Hypothesis\n"
   ]
  },
  {
   "cell_type": "markdown",
   "id": "23a7f03e",
   "metadata": {},
   "source": [
    "- The lady has no special power to tell the difference between cups of tea with milk in first and cups of tea with tea in first.\n",
    "\n",
    "- The lady is selecting the four cups from the eight cups at random."
   ]
  },
  {
   "cell_type": "markdown",
   "id": "71a2ad6f",
   "metadata": {},
   "source": [
    "## Alternative Hypothesis\n",
    "\n",
    "- The lady can tell the difference. "
   ]
  },
  {
   "cell_type": "markdown",
   "id": "fa8e91b4",
   "metadata": {},
   "source": [
    "### Evidence\n",
    "\n",
    "Fisher: if the lady is just picking four cups at random, then it is unlikely she will pick the correct four. The probability is one in seventy. It is so unlikely, that I will agree that something non-random is happening when she is selecting the cups of tea. "
   ]
  },
  {
   "cell_type": "code",
   "execution_count": 180,
   "id": "6c57e682",
   "metadata": {},
   "outputs": [
    {
     "data": {
      "text/plain": [
       "0.00202020202020202"
      ]
     },
     "execution_count": 180,
     "metadata": {},
     "output_type": "execute_result"
    }
   ],
   "source": [
    "# The probability that she (randomly) selects the four correct cups.\n",
    "1 / 495"
   ]
  },
  {
   "cell_type": "code",
   "execution_count": 181,
   "id": "f876ba92",
   "metadata": {},
   "outputs": [
    {
     "data": {
      "text/plain": [
       "0.03434343434343434"
      ]
     },
     "execution_count": 181,
     "metadata": {},
     "output_type": "execute_result"
    }
   ],
   "source": [
    "# The probability that she (randomly) selects at least three correct cups.\n",
    "( 16+ 1) / 495"
   ]
  },
  {
   "cell_type": "markdown",
   "id": "c4cf6898",
   "metadata": {},
   "source": [
    "##  give explanations and insights into your code"
   ]
  },
  {
   "cell_type": "markdown",
   "id": "71804b12",
   "metadata": {},
   "source": [
    "## Problem 2: Normal Distribution"
   ]
  },
  {
   "cell_type": "markdown",
   "id": "31c6712b",
   "metadata": {},
   "source": [
    "## Sampling Distribution of Standard Deviation\n",
    "\n",
    "We will investigate the behavior of **sample standard deviation** versus **population standard deviation** using repeated samples from the standard normal distribution.\n",
    "\n",
    "### Steps\n",
    "\n",
    "1. **Generate samples**\n",
    "   - Number of samples: 100,000\n",
    "   - Sample size: 10\n",
    "   - Distribution: Standard normal \\(N(0,1)\\)\n",
    "\n",
    "2. **Compute standard deviations**\n",
    "   - For each sample:\n",
    "     - **Sample SD**: using `ddof=1` (unbiased estimator)\n",
    "     - **Population SD**: using `ddof=0`\n",
    "\n",
    "3. **Visualize distributions**\n",
    "   - Plot histograms of both sets of standard deviations on the **same axes**\n",
    "   - Use **transparency** (e.g., `alpha=0.5`) to compare the distributions\n",
    "\n",
    "4. **Analyze differences**\n",
    "   - Observe how the **sample SD tends to be slightly larger on average** than the population SD for small sample sizes\n",
    "   - Explain the effect of **sample size**:\n",
    "     - As the sample size increases, the **difference between sample SD and population SD decreases**\n",
    "     - Both distributions become more concentrated around the true standard deviation\n",
    "\n",
    "### Objective\n",
    "\n",
    "This exercise illustrates:\n",
    "- The **bias in the population SD formula** when using small samples\n",
    "- How **sample size affects the accuracy** of the sample standard deviation as an estimator of the population SD\n"
   ]
  },
  {
   "cell_type": "code",
   "execution_count": 182,
   "id": "74e8a2f5",
   "metadata": {},
   "outputs": [],
   "source": [
    "# problem 2: Normal Distribution\n",
    "# Author: Finian Doonan\n",
    "\n",
    "# Binomial distribution.\n",
    "import numpy as np\n",
    "\n",
    "# Plotting.\n",
    "import matplotlib.pyplot as plt\n",
    "\n",
    "# Statistics.\n",
    "import scipy.stats as stats\n",
    "\n",
    "# Statistical models.\n",
    "import statsmodels as sm"
   ]
  },
  {
   "cell_type": "code",
   "execution_count": 183,
   "id": "4f721858",
   "metadata": {},
   "outputs": [
    {
     "data": {
      "text/plain": [
       "8"
      ]
     },
     "execution_count": 183,
     "metadata": {},
     "output_type": "execute_result"
    }
   ],
   "source": [
    "np.random.binomial(10, 0.5)"
   ]
  },
  {
   "cell_type": "code",
   "execution_count": 184,
   "id": "d2e5ab33",
   "metadata": {},
   "outputs": [
    {
     "data": {
      "text/plain": [
       "array([5, 7, 2, ..., 5, 3, 4])"
      ]
     },
     "execution_count": 184,
     "metadata": {},
     "output_type": "execute_result"
    }
   ],
   "source": [
    "# Number of samples to generate\n",
    "num_samples = 100000  \n",
    "\n",
    "# Binomial parameters\n",
    "n = 10      # number of Bernoulli trials per draw\n",
    "p = 0.5     # probability of success in each trial\n",
    "\n",
    "# Generate 100,000 binomial random variables\n",
    "# Each element represents the number of successes in 10 trials\n",
    "x = np.random.binomial(n, p, num_samples)\n",
    "\n",
    "# Display the array of 100,000 integers (values 0–10)\n",
    "x\n"
   ]
  },
  {
   "cell_type": "code",
   "execution_count": 185,
   "id": "d70eca9b",
   "metadata": {},
   "outputs": [
    {
     "data": {
      "text/plain": [
       "500064"
      ]
     },
     "execution_count": 185,
     "metadata": {},
     "output_type": "execute_result"
    }
   ],
   "source": [
    "# Compute the total number of successes across all 100,000 binomial draws\n",
    "# Each element of x is the number of successes in 10 trials\n",
    "total_successes = x.sum()\n",
    "\n",
    "# Show total number of successes (expected ≈ 100,000 * 10 * 0.5 = 500,000)\n",
    "total_successes\n"
   ]
  },
  {
   "cell_type": "code",
   "execution_count": 186,
   "id": "a8a1cd8a",
   "metadata": {},
   "outputs": [
    {
     "data": {
      "image/png": "[encoded data removed]",
      "text/plain": [
       "<Figure size 640x480 with 1 Axes>"
      ]
     },
     "metadata": {},
     "output_type": "display_data"
    }
   ],
   "source": [
    "# Create a blank plot.\n",
    "fig, ax = plt.subplots()\n",
    "\n",
    "# Create a bar chart.\n",
    "ax.bar([0, 1], [1000 - total_successes, total_successes])\n",
    "\n",
    "# Add x labels.\n",
    "ax.set_xticks([0, 1], labels=['Failures', 'Successes'])\n",
    "\n",
    "# Add title.\n",
    "ax.set_title('Total Successes and Failures in 100,000 Binomial Draws (n=10, p=0.5)')\n",
    "\n",
    "# Add axis label.\n",
    "ax.set_ylabel('Count');"
   ]
  },
  {
   "cell_type": "code",
   "execution_count": 187,
   "id": "210f57a7",
   "metadata": {},
   "outputs": [
    {
     "data": {
      "text/plain": [
       "array([[5, 5],\n",
       "       [7, 4],\n",
       "       [6, 4],\n",
       "       ...,\n",
       "       [6, 7],\n",
       "       [8, 8],\n",
       "       [5, 5]])"
      ]
     },
     "execution_count": 187,
     "metadata": {},
     "output_type": "execute_result"
    }
   ],
   "source": [
    "x2= np.random.binomial(n, p, (num_samples, 2))\n",
    "\n",
    "# show\n",
    "x2\n"
   ]
  },
  {
   "cell_type": "code",
   "execution_count": 188,
   "id": "ce69dd66",
   "metadata": {},
   "outputs": [
    {
     "data": {
      "text/plain": [
       "(array([ 0,  1,  2,  3,  4,  5,  6,  7,  8,  9, 10]),\n",
       " array([  193,  1951,  8770, 23468, 40812, 49580, 41206, 23287,  8661,\n",
       "         1899,   173], dtype=int64))"
      ]
     },
     "execution_count": 188,
     "metadata": {},
     "output_type": "execute_result"
    }
   ],
   "source": [
    "# Count the number of times each value occurs.\n",
    "uniques, counts = np.unique(x2, return_counts=True)\n",
    "\n",
    "# Show.\n",
    "uniques, counts"
   ]
  },
  {
   "cell_type": "code",
   "execution_count": 189,
   "id": "6a007e59",
   "metadata": {},
   "outputs": [
    {
     "data": {
      "image/png": "[encoded data removed]",
      "text/plain": [
       "<Figure size 640x480 with 1 Axes>"
      ]
     },
     "metadata": {},
     "output_type": "display_data"
    }
   ],
   "source": [
    "# Create a blank plot.\n",
    "fig, ax = plt.subplots()\n",
    "\n",
    "# Create a bar chart.\n",
    "ax.bar(uniques, counts)\n",
    "\n",
    "# Set x ticks.\n",
    "ax.set_xticks(uniques)\n",
    "\n",
    "# Add title.\n",
    "ax.set_title('two tests 1000000 times')\n",
    "\n",
    "# Add axis label.\n",
    "ax.set_xlabel('failures in two tests')\n",
    "ax.set_ylabel('Count');"
   ]
  },
  {
   "cell_type": "markdown",
   "id": "520ab7a1",
   "metadata": {},
   "source": [
    " ## give explanations and insights into your code"
   ]
  },
  {
   "cell_type": "markdown",
   "id": "3316206f",
   "metadata": {},
   "source": [
    "## Problem 3: t-Tests"
   ]
  },
  {
   "cell_type": "markdown",
   "id": "239defae",
   "metadata": {},
   "source": [
    "## Simulation of Type II Error\n",
    "\n",
    "A **Type II error** occurs when a test **fails to reject the null hypothesis** even though it is false.  \n",
    "\n",
    "We will simulate this scenario for different mean differences \\(d = 0, 0.1, 0.2, \\dots, 1.0\\) using the following procedure:\n",
    "\n",
    "### Steps\n",
    "\n",
    "1. **Set parameters**\n",
    "   - Number of simulations: 1,000\n",
    "   - Sample size for each group: 100\n",
    "   - Standard deviation: 1\n",
    "   - Significance level: 0.05\n",
    "\n",
    "2. **For each mean difference \\(d\\):**\n",
    "   1. Repeat 1,000 times:\n",
    "      - Draw **Sample A** of size 100 from the standard normal distribution \\(N(0,1)\\)\n",
    "      - Draw **Sample B** of size 100 from \\(N(d,1)\\)\n",
    "      - Perform an **independent two-sample t-test** comparing Sample A and Sample B\n",
    "      - Reject the null hypothesis if **p-value < 0.05**\n",
    "   2. Record the **proportion of times the null hypothesis is not rejected**  \n",
    "      → This is the **Type II error rate** for that \\(d\\).\n",
    "\n",
    "3. **Plot results**\n",
    "   - X-axis: mean difference \\(d\\)\n",
    "   - Y-axis: proportion of times the null hypothesis is not rejected (Type II error rate)\n",
    "   - Observe how the Type II error rate **decreases** as the mean difference increases.\n",
    "\n",
    "### Objective\n",
    "\n",
    "This simulation helps illustrate that as the **difference between group means increases**, the **power of the test increases**, and the **Type II error rate decreases**.\n"
   ]
  },
  {
   "cell_type": "code",
   "execution_count": 190,
   "id": "de262a40",
   "metadata": {},
   "outputs": [],
   "source": [
    "## problem 3: t-Tests\n",
    "# Author: Finian Doonan"
   ]
  },
  {
   "cell_type": "markdown",
   "id": "7d55b1b0",
   "metadata": {},
   "source": [
    " ## give explanations and insights into your code"
   ]
  },
  {
   "cell_type": "markdown",
   "id": "cdb0b917",
   "metadata": {},
   "source": [
    "## Problem 4: ANOVA"
   ]
  },
  {
   "cell_type": "code",
   "execution_count": 191,
   "id": "9a11f716",
   "metadata": {},
   "outputs": [],
   "source": [
    "# problem 4: ANOVA\n",
    "# Author: Finian Doonan"
   ]
  },
  {
   "cell_type": "markdown",
   "id": "9f95fb84",
   "metadata": {},
   "source": [
    "## give explanations and insights into your code"
   ]
  },
  {
   "cell_type": "markdown",
   "id": "ed74483e",
   "metadata": {},
   "source": [
    "# End"
   ]
  }
 ],
 "metadata": {
  "kernelspec": {
   "display_name": "base",
   "language": "python",
   "name": "python3"
  },
  "language_info": {
   "codemirror_mode": {
    "name": "ipython",
    "version": 3
   },
   "file_extension": ".py",
   "mimetype": "text/x-python",
   "name": "python",
   "nbconvert_exporter": "python",
   "pygments_lexer": "ipython3",
   "version": "3.12.3"
  }
 },
 "nbformat": 4,
 "nbformat_minor": 5
}
