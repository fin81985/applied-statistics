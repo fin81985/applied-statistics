{
 "cells": [
  {
   "cell_type": "markdown",
   "id": "6017abd3",
   "metadata": {},
   "source": [
    "# Assessment Problems"
   ]
  },
  {
   "cell_type": "markdown",
   "id": "bca75a70",
   "metadata": {},
   "source": [
    "## Problem 1: Extending the Lady Tasting Tea"
   ]
  },
  {
   "cell_type": "code",
   "execution_count": 83,
   "id": "8b175cb5",
   "metadata": {},
   "outputs": [],
   "source": [
    "# problem 1 : Lady Tasting Tea experiment\n",
    "# Author: Finian Doonan"
   ]
  },
  {
   "cell_type": "markdown",
   "id": "205d75b8",
   "metadata": {},
   "source": [
    "### prepare 12 cups: 8 tea-first and 4 milk-first.\n",
    "A participant claims they can tell which was poured first.  \n",
    "Simulate this experiment using `numpy` by randomly shuffling the cups many times and calculating the probability of the participant correctly identifying all cups by chance.\n",
    "Compare your result with the original 8-cup experiment.  "
   ]
  },
  {
   "cell_type": "code",
   "execution_count": 84,
   "id": "70fe3866",
   "metadata": {},
   "outputs": [],
   "source": [
    "\n",
    "# Mathematical functions from the standard library.\n",
    "# https://docs.python.org/3/library/math.html\n",
    "import math\n",
    "\n",
    "# Permutations and combinations.\n",
    "# https://docs.python.org/3/library/itertools.html\n",
    "import itertools\n",
    "\n",
    "# Random selections.\n",
    "# https://docs.python.org/3/library/random.html\n",
    "import random\n",
    "\n",
    "# Numerical structures and operations.\n",
    "# https://numpy.org/doc/stable/reference/index.html#reference\n",
    "import numpy as np\n",
    "\n",
    "# Plotting.\n",
    "# https://matplotlib.org/stable/contents.html\n",
    "import matplotlib.pyplot as plt\n"
   ]
  },
  {
   "cell_type": "markdown",
   "id": "f868aea9",
   "metadata": {},
   "source": [
    "## Permutations and combinations."
   ]
  },
  {
   "cell_type": "code",
   "execution_count": 85,
   "id": "ce821b8a",
   "metadata": {},
   "outputs": [],
   "source": [
    "# Number of cups of tea in total.\n",
    "no_cups = 12\n",
    "\n",
    "# Number of cups of tea with milk in first.\n",
    "no_cups_milk_first = 4\n",
    "\n",
    "# Number of cups of tea with tea in first.\n",
    "no_cups_tea_first = 8\n",
    "no_cups_tea_first = 4"
   ]
  },
  {
   "cell_type": "markdown",
   "id": "de2bbb43",
   "metadata": {},
   "source": [
    "## Formula\n",
    "\n",
    "In mathematics, the `math.comb()` function is called the *choose* function.\n",
    "\n",
    "It is written and calculated as\n",
    "\n",
    "$\\binom{n}{k} = \\frac{n!}{k!(n-k)!}$.\n"
   ]
  },
  {
   "cell_type": "code",
   "execution_count": null,
   "id": "a400239f",
   "metadata": {},
   "outputs": [],
   "source": [
    "# Number of cups of tea in total.\n",
    "n = 12"
   ]
  },
  {
   "cell_type": "code",
   "execution_count": null,
   "id": "fbc18584",
   "metadata": {},
   "outputs": [],
   "source": [
    "# Number of cups of tea with milk in first.\n",
    "k = 4"
   ]
  },
  {
   "cell_type": "code",
   "execution_count": null,
   "id": "85091b54",
   "metadata": {},
   "outputs": [
    {
     "data": {
      "text/plain": [
       "495"
      ]
     },
     "execution_count": 66,
     "metadata": {},
     "output_type": "execute_result"
    }
   ],
   "source": [
    "# Number of ways of selecting four cups from eight.\n",
    "ways = math.comb(no_cups, no_cups_milk_first)\n",
    "\n",
    "# Show.\n",
    "ways"
   ]
  },
  {
   "cell_type": "code",
   "execution_count": null,
   "id": "f81dfdaf",
   "metadata": {},
   "outputs": [
    {
     "data": {
      "text/plain": [
       "1680"
      ]
     },
     "execution_count": 67,
     "metadata": {},
     "output_type": "execute_result"
    }
   ],
   "source": [
    "# Total number of ways of selecting four cups from eight, keeping them in order.\n",
    "ways_ordered = 8 * 7 * 6 * 5\n",
    "\n",
    "# Show.\n",
    "ways_ordered"
   ]
  },
  {
   "cell_type": "code",
   "execution_count": null,
   "id": "5667ec61",
   "metadata": {},
   "outputs": [
    {
     "data": {
      "text/plain": [
       "24"
      ]
     },
     "execution_count": 68,
     "metadata": {},
     "output_type": "execute_result"
    }
   ],
   "source": [
    "# No of ways of shuffling four cups.\n",
    "no_shuffles = 4 * 3 * 2 * 1\n",
    "\n",
    "# Show.\n",
    "no_shuffles"
   ]
  },
  {
   "cell_type": "code",
   "execution_count": null,
   "id": "01899ce8",
   "metadata": {},
   "outputs": [
    {
     "data": {
      "text/plain": [
       "70"
      ]
     },
     "execution_count": 69,
     "metadata": {},
     "output_type": "execute_result"
    }
   ],
   "source": [
    "# No of combinations.\n",
    "no_combs = ways_ordered // no_shuffles\n",
    "\n",
    "# Show.\n",
    "no_combs"
   ]
  },
  {
   "cell_type": "markdown",
   "id": "e0b5c9f8",
   "metadata": {},
   "source": [
    "## math.factorial\n",
    "\n",
    "https://docs.python.org/3.12/library/math.html#math.factorial\n",
    "\n",
    "Mathematically denoted as `n!`.\n",
    "\n",
    "Multiply all positive integers from `n` down to 1.\n",
    "\n",
    "\n",
    "`n! = n x (n - 1) x (n - 2) x ... x 1`\n",
    "\n",
    "e.g. `5! = 5 x 4 x 3 x 2 x 1 = 120`"
   ]
  },
  {
   "cell_type": "code",
   "execution_count": null,
   "id": "bf28750b",
   "metadata": {},
   "outputs": [
    {
     "data": {
      "text/plain": [
       "479001600"
      ]
     },
     "execution_count": 70,
     "metadata": {},
     "output_type": "execute_result"
    }
   ],
   "source": [
    "# Eight factorial.\n",
    "math.factorial(n)"
   ]
  },
  {
   "cell_type": "code",
   "execution_count": null,
   "id": "53c7309f",
   "metadata": {},
   "outputs": [
    {
     "data": {
      "text/plain": [
       "24"
      ]
     },
     "execution_count": 71,
     "metadata": {},
     "output_type": "execute_result"
    }
   ],
   "source": [
    "# Four factorial.\n",
    "math.factorial(k)"
   ]
  },
  {
   "cell_type": "code",
   "execution_count": null,
   "id": "7a1ba2ca",
   "metadata": {},
   "outputs": [
    {
     "data": {
      "text/plain": [
       "40320"
      ]
     },
     "execution_count": 72,
     "metadata": {},
     "output_type": "execute_result"
    }
   ],
   "source": [
    "# Four factorial.\n",
    "math.factorial(n - k)"
   ]
  },
  {
   "cell_type": "code",
   "execution_count": null,
   "id": "1df660e2",
   "metadata": {},
   "outputs": [
    {
     "data": {
      "text/plain": [
       "495"
      ]
     },
     "execution_count": 73,
     "metadata": {},
     "output_type": "execute_result"
    }
   ],
   "source": [
    "# No of ways of selecting k objects from n without replacement and without order.\n",
    "math.factorial(n) // (math.factorial(k) * math.factorial(n - k))#"
   ]
  },
  {
   "cell_type": "code",
   "execution_count": null,
   "id": "16664f70",
   "metadata": {},
   "outputs": [
    {
     "data": {
      "text/plain": [
       "[0, 1, 2, 3, 4, 5, 6, 7, 8, 9, 10, 11]"
      ]
     },
     "execution_count": 74,
     "metadata": {},
     "output_type": "execute_result"
    }
   ],
   "source": [
    "# The cup labels.\n",
    "labels = list(range(no_cups))\n",
    "\n",
    "# Show.\n",
    "labels"
   ]
  },
  {
   "cell_type": "code",
   "execution_count": 87,
   "id": "39f47453",
   "metadata": {},
   "outputs": [
    {
     "data": {
      "text/plain": [
       "array([ 0,  9,  1, 11,  3,  5,  4,  6,  2, 10,  8,  7])"
      ]
     },
     "execution_count": 87,
     "metadata": {},
     "output_type": "execute_result"
    }
   ],
   "source": [
    "# Correct usage: pass the sequence (or an integer) to np.random.permutation.\n",
    "# Use the existing `labels` list to get a shuffled ordering of the cups.\n",
    "shuffled = np.random.permutation(labels)\n",
    "shuffled"
   ]
  },
  {
   "cell_type": "code",
   "execution_count": null,
   "id": "99626e1f",
   "metadata": {},
   "outputs": [
    {
     "data": {
      "text/plain": [
       "[(0, 1, 2, 3),\n",
       " (0, 1, 2, 4),\n",
       " (0, 1, 2, 5),\n",
       " (0, 1, 2, 6),\n",
       " (0, 1, 2, 7),\n",
       " (0, 1, 2, 8),\n",
       " (0, 1, 2, 9),\n",
       " (0, 1, 2, 10),\n",
       " (0, 1, 2, 11),\n",
       " (0, 1, 3, 4),\n",
       " (0, 1, 3, 5),\n",
       " (0, 1, 3, 6),\n",
       " (0, 1, 3, 7),\n",
       " (0, 1, 3, 8),\n",
       " (0, 1, 3, 9),\n",
       " (0, 1, 3, 10),\n",
       " (0, 1, 3, 11),\n",
       " (0, 1, 4, 5),\n",
       " (0, 1, 4, 6),\n",
       " (0, 1, 4, 7),\n",
       " (0, 1, 4, 8),\n",
       " (0, 1, 4, 9),\n",
       " (0, 1, 4, 10),\n",
       " (0, 1, 4, 11),\n",
       " (0, 1, 5, 6),\n",
       " (0, 1, 5, 7),\n",
       " (0, 1, 5, 8),\n",
       " (0, 1, 5, 9),\n",
       " (0, 1, 5, 10),\n",
       " (0, 1, 5, 11),\n",
       " (0, 1, 6, 7),\n",
       " (0, 1, 6, 8),\n",
       " (0, 1, 6, 9),\n",
       " (0, 1, 6, 10),\n",
       " (0, 1, 6, 11),\n",
       " (0, 1, 7, 8),\n",
       " (0, 1, 7, 9),\n",
       " (0, 1, 7, 10),\n",
       " (0, 1, 7, 11),\n",
       " (0, 1, 8, 9),\n",
       " (0, 1, 8, 10),\n",
       " (0, 1, 8, 11),\n",
       " (0, 1, 9, 10),\n",
       " (0, 1, 9, 11),\n",
       " (0, 1, 10, 11),\n",
       " (0, 2, 3, 4),\n",
       " (0, 2, 3, 5),\n",
       " (0, 2, 3, 6),\n",
       " (0, 2, 3, 7),\n",
       " (0, 2, 3, 8),\n",
       " (0, 2, 3, 9),\n",
       " (0, 2, 3, 10),\n",
       " (0, 2, 3, 11),\n",
       " (0, 2, 4, 5),\n",
       " (0, 2, 4, 6),\n",
       " (0, 2, 4, 7),\n",
       " (0, 2, 4, 8),\n",
       " (0, 2, 4, 9),\n",
       " (0, 2, 4, 10),\n",
       " (0, 2, 4, 11),\n",
       " (0, 2, 5, 6),\n",
       " (0, 2, 5, 7),\n",
       " (0, 2, 5, 8),\n",
       " (0, 2, 5, 9),\n",
       " (0, 2, 5, 10),\n",
       " (0, 2, 5, 11),\n",
       " (0, 2, 6, 7),\n",
       " (0, 2, 6, 8),\n",
       " (0, 2, 6, 9),\n",
       " (0, 2, 6, 10),\n",
       " (0, 2, 6, 11),\n",
       " (0, 2, 7, 8),\n",
       " (0, 2, 7, 9),\n",
       " (0, 2, 7, 10),\n",
       " (0, 2, 7, 11),\n",
       " (0, 2, 8, 9),\n",
       " (0, 2, 8, 10),\n",
       " (0, 2, 8, 11),\n",
       " (0, 2, 9, 10),\n",
       " (0, 2, 9, 11),\n",
       " (0, 2, 10, 11),\n",
       " (0, 3, 4, 5),\n",
       " (0, 3, 4, 6),\n",
       " (0, 3, 4, 7),\n",
       " (0, 3, 4, 8),\n",
       " (0, 3, 4, 9),\n",
       " (0, 3, 4, 10),\n",
       " (0, 3, 4, 11),\n",
       " (0, 3, 5, 6),\n",
       " (0, 3, 5, 7),\n",
       " (0, 3, 5, 8),\n",
       " (0, 3, 5, 9),\n",
       " (0, 3, 5, 10),\n",
       " (0, 3, 5, 11),\n",
       " (0, 3, 6, 7),\n",
       " (0, 3, 6, 8),\n",
       " (0, 3, 6, 9),\n",
       " (0, 3, 6, 10),\n",
       " (0, 3, 6, 11),\n",
       " (0, 3, 7, 8),\n",
       " (0, 3, 7, 9),\n",
       " (0, 3, 7, 10),\n",
       " (0, 3, 7, 11),\n",
       " (0, 3, 8, 9),\n",
       " (0, 3, 8, 10),\n",
       " (0, 3, 8, 11),\n",
       " (0, 3, 9, 10),\n",
       " (0, 3, 9, 11),\n",
       " (0, 3, 10, 11),\n",
       " (0, 4, 5, 6),\n",
       " (0, 4, 5, 7),\n",
       " (0, 4, 5, 8),\n",
       " (0, 4, 5, 9),\n",
       " (0, 4, 5, 10),\n",
       " (0, 4, 5, 11),\n",
       " (0, 4, 6, 7),\n",
       " (0, 4, 6, 8),\n",
       " (0, 4, 6, 9),\n",
       " (0, 4, 6, 10),\n",
       " (0, 4, 6, 11),\n",
       " (0, 4, 7, 8),\n",
       " (0, 4, 7, 9),\n",
       " (0, 4, 7, 10),\n",
       " (0, 4, 7, 11),\n",
       " (0, 4, 8, 9),\n",
       " (0, 4, 8, 10),\n",
       " (0, 4, 8, 11),\n",
       " (0, 4, 9, 10),\n",
       " (0, 4, 9, 11),\n",
       " (0, 4, 10, 11),\n",
       " (0, 5, 6, 7),\n",
       " (0, 5, 6, 8),\n",
       " (0, 5, 6, 9),\n",
       " (0, 5, 6, 10),\n",
       " (0, 5, 6, 11),\n",
       " (0, 5, 7, 8),\n",
       " (0, 5, 7, 9),\n",
       " (0, 5, 7, 10),\n",
       " (0, 5, 7, 11),\n",
       " (0, 5, 8, 9),\n",
       " (0, 5, 8, 10),\n",
       " (0, 5, 8, 11),\n",
       " (0, 5, 9, 10),\n",
       " (0, 5, 9, 11),\n",
       " (0, 5, 10, 11),\n",
       " (0, 6, 7, 8),\n",
       " (0, 6, 7, 9),\n",
       " (0, 6, 7, 10),\n",
       " (0, 6, 7, 11),\n",
       " (0, 6, 8, 9),\n",
       " (0, 6, 8, 10),\n",
       " (0, 6, 8, 11),\n",
       " (0, 6, 9, 10),\n",
       " (0, 6, 9, 11),\n",
       " (0, 6, 10, 11),\n",
       " (0, 7, 8, 9),\n",
       " (0, 7, 8, 10),\n",
       " (0, 7, 8, 11),\n",
       " (0, 7, 9, 10),\n",
       " (0, 7, 9, 11),\n",
       " (0, 7, 10, 11),\n",
       " (0, 8, 9, 10),\n",
       " (0, 8, 9, 11),\n",
       " (0, 8, 10, 11),\n",
       " (0, 9, 10, 11),\n",
       " (1, 2, 3, 4),\n",
       " (1, 2, 3, 5),\n",
       " (1, 2, 3, 6),\n",
       " (1, 2, 3, 7),\n",
       " (1, 2, 3, 8),\n",
       " (1, 2, 3, 9),\n",
       " (1, 2, 3, 10),\n",
       " (1, 2, 3, 11),\n",
       " (1, 2, 4, 5),\n",
       " (1, 2, 4, 6),\n",
       " (1, 2, 4, 7),\n",
       " (1, 2, 4, 8),\n",
       " (1, 2, 4, 9),\n",
       " (1, 2, 4, 10),\n",
       " (1, 2, 4, 11),\n",
       " (1, 2, 5, 6),\n",
       " (1, 2, 5, 7),\n",
       " (1, 2, 5, 8),\n",
       " (1, 2, 5, 9),\n",
       " (1, 2, 5, 10),\n",
       " (1, 2, 5, 11),\n",
       " (1, 2, 6, 7),\n",
       " (1, 2, 6, 8),\n",
       " (1, 2, 6, 9),\n",
       " (1, 2, 6, 10),\n",
       " (1, 2, 6, 11),\n",
       " (1, 2, 7, 8),\n",
       " (1, 2, 7, 9),\n",
       " (1, 2, 7, 10),\n",
       " (1, 2, 7, 11),\n",
       " (1, 2, 8, 9),\n",
       " (1, 2, 8, 10),\n",
       " (1, 2, 8, 11),\n",
       " (1, 2, 9, 10),\n",
       " (1, 2, 9, 11),\n",
       " (1, 2, 10, 11),\n",
       " (1, 3, 4, 5),\n",
       " (1, 3, 4, 6),\n",
       " (1, 3, 4, 7),\n",
       " (1, 3, 4, 8),\n",
       " (1, 3, 4, 9),\n",
       " (1, 3, 4, 10),\n",
       " (1, 3, 4, 11),\n",
       " (1, 3, 5, 6),\n",
       " (1, 3, 5, 7),\n",
       " (1, 3, 5, 8),\n",
       " (1, 3, 5, 9),\n",
       " (1, 3, 5, 10),\n",
       " (1, 3, 5, 11),\n",
       " (1, 3, 6, 7),\n",
       " (1, 3, 6, 8),\n",
       " (1, 3, 6, 9),\n",
       " (1, 3, 6, 10),\n",
       " (1, 3, 6, 11),\n",
       " (1, 3, 7, 8),\n",
       " (1, 3, 7, 9),\n",
       " (1, 3, 7, 10),\n",
       " (1, 3, 7, 11),\n",
       " (1, 3, 8, 9),\n",
       " (1, 3, 8, 10),\n",
       " (1, 3, 8, 11),\n",
       " (1, 3, 9, 10),\n",
       " (1, 3, 9, 11),\n",
       " (1, 3, 10, 11),\n",
       " (1, 4, 5, 6),\n",
       " (1, 4, 5, 7),\n",
       " (1, 4, 5, 8),\n",
       " (1, 4, 5, 9),\n",
       " (1, 4, 5, 10),\n",
       " (1, 4, 5, 11),\n",
       " (1, 4, 6, 7),\n",
       " (1, 4, 6, 8),\n",
       " (1, 4, 6, 9),\n",
       " (1, 4, 6, 10),\n",
       " (1, 4, 6, 11),\n",
       " (1, 4, 7, 8),\n",
       " (1, 4, 7, 9),\n",
       " (1, 4, 7, 10),\n",
       " (1, 4, 7, 11),\n",
       " (1, 4, 8, 9),\n",
       " (1, 4, 8, 10),\n",
       " (1, 4, 8, 11),\n",
       " (1, 4, 9, 10),\n",
       " (1, 4, 9, 11),\n",
       " (1, 4, 10, 11),\n",
       " (1, 5, 6, 7),\n",
       " (1, 5, 6, 8),\n",
       " (1, 5, 6, 9),\n",
       " (1, 5, 6, 10),\n",
       " (1, 5, 6, 11),\n",
       " (1, 5, 7, 8),\n",
       " (1, 5, 7, 9),\n",
       " (1, 5, 7, 10),\n",
       " (1, 5, 7, 11),\n",
       " (1, 5, 8, 9),\n",
       " (1, 5, 8, 10),\n",
       " (1, 5, 8, 11),\n",
       " (1, 5, 9, 10),\n",
       " (1, 5, 9, 11),\n",
       " (1, 5, 10, 11),\n",
       " (1, 6, 7, 8),\n",
       " (1, 6, 7, 9),\n",
       " (1, 6, 7, 10),\n",
       " (1, 6, 7, 11),\n",
       " (1, 6, 8, 9),\n",
       " (1, 6, 8, 10),\n",
       " (1, 6, 8, 11),\n",
       " (1, 6, 9, 10),\n",
       " (1, 6, 9, 11),\n",
       " (1, 6, 10, 11),\n",
       " (1, 7, 8, 9),\n",
       " (1, 7, 8, 10),\n",
       " (1, 7, 8, 11),\n",
       " (1, 7, 9, 10),\n",
       " (1, 7, 9, 11),\n",
       " (1, 7, 10, 11),\n",
       " (1, 8, 9, 10),\n",
       " (1, 8, 9, 11),\n",
       " (1, 8, 10, 11),\n",
       " (1, 9, 10, 11),\n",
       " (2, 3, 4, 5),\n",
       " (2, 3, 4, 6),\n",
       " (2, 3, 4, 7),\n",
       " (2, 3, 4, 8),\n",
       " (2, 3, 4, 9),\n",
       " (2, 3, 4, 10),\n",
       " (2, 3, 4, 11),\n",
       " (2, 3, 5, 6),\n",
       " (2, 3, 5, 7),\n",
       " (2, 3, 5, 8),\n",
       " (2, 3, 5, 9),\n",
       " (2, 3, 5, 10),\n",
       " (2, 3, 5, 11),\n",
       " (2, 3, 6, 7),\n",
       " (2, 3, 6, 8),\n",
       " (2, 3, 6, 9),\n",
       " (2, 3, 6, 10),\n",
       " (2, 3, 6, 11),\n",
       " (2, 3, 7, 8),\n",
       " (2, 3, 7, 9),\n",
       " (2, 3, 7, 10),\n",
       " (2, 3, 7, 11),\n",
       " (2, 3, 8, 9),\n",
       " (2, 3, 8, 10),\n",
       " (2, 3, 8, 11),\n",
       " (2, 3, 9, 10),\n",
       " (2, 3, 9, 11),\n",
       " (2, 3, 10, 11),\n",
       " (2, 4, 5, 6),\n",
       " (2, 4, 5, 7),\n",
       " (2, 4, 5, 8),\n",
       " (2, 4, 5, 9),\n",
       " (2, 4, 5, 10),\n",
       " (2, 4, 5, 11),\n",
       " (2, 4, 6, 7),\n",
       " (2, 4, 6, 8),\n",
       " (2, 4, 6, 9),\n",
       " (2, 4, 6, 10),\n",
       " (2, 4, 6, 11),\n",
       " (2, 4, 7, 8),\n",
       " (2, 4, 7, 9),\n",
       " (2, 4, 7, 10),\n",
       " (2, 4, 7, 11),\n",
       " (2, 4, 8, 9),\n",
       " (2, 4, 8, 10),\n",
       " (2, 4, 8, 11),\n",
       " (2, 4, 9, 10),\n",
       " (2, 4, 9, 11),\n",
       " (2, 4, 10, 11),\n",
       " (2, 5, 6, 7),\n",
       " (2, 5, 6, 8),\n",
       " (2, 5, 6, 9),\n",
       " (2, 5, 6, 10),\n",
       " (2, 5, 6, 11),\n",
       " (2, 5, 7, 8),\n",
       " (2, 5, 7, 9),\n",
       " (2, 5, 7, 10),\n",
       " (2, 5, 7, 11),\n",
       " (2, 5, 8, 9),\n",
       " (2, 5, 8, 10),\n",
       " (2, 5, 8, 11),\n",
       " (2, 5, 9, 10),\n",
       " (2, 5, 9, 11),\n",
       " (2, 5, 10, 11),\n",
       " (2, 6, 7, 8),\n",
       " (2, 6, 7, 9),\n",
       " (2, 6, 7, 10),\n",
       " (2, 6, 7, 11),\n",
       " (2, 6, 8, 9),\n",
       " (2, 6, 8, 10),\n",
       " (2, 6, 8, 11),\n",
       " (2, 6, 9, 10),\n",
       " (2, 6, 9, 11),\n",
       " (2, 6, 10, 11),\n",
       " (2, 7, 8, 9),\n",
       " (2, 7, 8, 10),\n",
       " (2, 7, 8, 11),\n",
       " (2, 7, 9, 10),\n",
       " (2, 7, 9, 11),\n",
       " (2, 7, 10, 11),\n",
       " (2, 8, 9, 10),\n",
       " (2, 8, 9, 11),\n",
       " (2, 8, 10, 11),\n",
       " (2, 9, 10, 11),\n",
       " (3, 4, 5, 6),\n",
       " (3, 4, 5, 7),\n",
       " (3, 4, 5, 8),\n",
       " (3, 4, 5, 9),\n",
       " (3, 4, 5, 10),\n",
       " (3, 4, 5, 11),\n",
       " (3, 4, 6, 7),\n",
       " (3, 4, 6, 8),\n",
       " (3, 4, 6, 9),\n",
       " (3, 4, 6, 10),\n",
       " (3, 4, 6, 11),\n",
       " (3, 4, 7, 8),\n",
       " (3, 4, 7, 9),\n",
       " (3, 4, 7, 10),\n",
       " (3, 4, 7, 11),\n",
       " (3, 4, 8, 9),\n",
       " (3, 4, 8, 10),\n",
       " (3, 4, 8, 11),\n",
       " (3, 4, 9, 10),\n",
       " (3, 4, 9, 11),\n",
       " (3, 4, 10, 11),\n",
       " (3, 5, 6, 7),\n",
       " (3, 5, 6, 8),\n",
       " (3, 5, 6, 9),\n",
       " (3, 5, 6, 10),\n",
       " (3, 5, 6, 11),\n",
       " (3, 5, 7, 8),\n",
       " (3, 5, 7, 9),\n",
       " (3, 5, 7, 10),\n",
       " (3, 5, 7, 11),\n",
       " (3, 5, 8, 9),\n",
       " (3, 5, 8, 10),\n",
       " (3, 5, 8, 11),\n",
       " (3, 5, 9, 10),\n",
       " (3, 5, 9, 11),\n",
       " (3, 5, 10, 11),\n",
       " (3, 6, 7, 8),\n",
       " (3, 6, 7, 9),\n",
       " (3, 6, 7, 10),\n",
       " (3, 6, 7, 11),\n",
       " (3, 6, 8, 9),\n",
       " (3, 6, 8, 10),\n",
       " (3, 6, 8, 11),\n",
       " (3, 6, 9, 10),\n",
       " (3, 6, 9, 11),\n",
       " (3, 6, 10, 11),\n",
       " (3, 7, 8, 9),\n",
       " (3, 7, 8, 10),\n",
       " (3, 7, 8, 11),\n",
       " (3, 7, 9, 10),\n",
       " (3, 7, 9, 11),\n",
       " (3, 7, 10, 11),\n",
       " (3, 8, 9, 10),\n",
       " (3, 8, 9, 11),\n",
       " (3, 8, 10, 11),\n",
       " (3, 9, 10, 11),\n",
       " (4, 5, 6, 7),\n",
       " (4, 5, 6, 8),\n",
       " (4, 5, 6, 9),\n",
       " (4, 5, 6, 10),\n",
       " (4, 5, 6, 11),\n",
       " (4, 5, 7, 8),\n",
       " (4, 5, 7, 9),\n",
       " (4, 5, 7, 10),\n",
       " (4, 5, 7, 11),\n",
       " (4, 5, 8, 9),\n",
       " (4, 5, 8, 10),\n",
       " (4, 5, 8, 11),\n",
       " (4, 5, 9, 10),\n",
       " (4, 5, 9, 11),\n",
       " (4, 5, 10, 11),\n",
       " (4, 6, 7, 8),\n",
       " (4, 6, 7, 9),\n",
       " (4, 6, 7, 10),\n",
       " (4, 6, 7, 11),\n",
       " (4, 6, 8, 9),\n",
       " (4, 6, 8, 10),\n",
       " (4, 6, 8, 11),\n",
       " (4, 6, 9, 10),\n",
       " (4, 6, 9, 11),\n",
       " (4, 6, 10, 11),\n",
       " (4, 7, 8, 9),\n",
       " (4, 7, 8, 10),\n",
       " (4, 7, 8, 11),\n",
       " (4, 7, 9, 10),\n",
       " (4, 7, 9, 11),\n",
       " (4, 7, 10, 11),\n",
       " (4, 8, 9, 10),\n",
       " (4, 8, 9, 11),\n",
       " (4, 8, 10, 11),\n",
       " (4, 9, 10, 11),\n",
       " (5, 6, 7, 8),\n",
       " (5, 6, 7, 9),\n",
       " (5, 6, 7, 10),\n",
       " (5, 6, 7, 11),\n",
       " (5, 6, 8, 9),\n",
       " (5, 6, 8, 10),\n",
       " (5, 6, 8, 11),\n",
       " (5, 6, 9, 10),\n",
       " (5, 6, 9, 11),\n",
       " (5, 6, 10, 11),\n",
       " (5, 7, 8, 9),\n",
       " (5, 7, 8, 10),\n",
       " (5, 7, 8, 11),\n",
       " (5, 7, 9, 10),\n",
       " (5, 7, 9, 11),\n",
       " (5, 7, 10, 11),\n",
       " (5, 8, 9, 10),\n",
       " (5, 8, 9, 11),\n",
       " (5, 8, 10, 11),\n",
       " (5, 9, 10, 11),\n",
       " (6, 7, 8, 9),\n",
       " (6, 7, 8, 10),\n",
       " (6, 7, 8, 11),\n",
       " (6, 7, 9, 10),\n",
       " (6, 7, 9, 11),\n",
       " (6, 7, 10, 11),\n",
       " (6, 8, 9, 10),\n",
       " (6, 8, 9, 11),\n",
       " (6, 8, 10, 11),\n",
       " (6, 9, 10, 11),\n",
       " (7, 8, 9, 10),\n",
       " (7, 8, 9, 11),\n",
       " (7, 8, 10, 11),\n",
       " (7, 9, 10, 11),\n",
       " (8, 9, 10, 11)]"
      ]
     },
     "execution_count": 75,
     "metadata": {},
     "output_type": "execute_result"
    }
   ],
   "source": [
    "# Show the different ways of selecting no_cups_milk_first out of no_cups cups of tea.\n",
    "combs = list(itertools.combinations(labels, no_cups_milk_first))\n",
    "\n",
    "# Show.\n",
    "combs"
   ]
  },
  {
   "cell_type": "code",
   "execution_count": null,
   "id": "87121393",
   "metadata": {},
   "outputs": [
    {
     "data": {
      "text/plain": [
       "495"
      ]
     },
     "execution_count": 76,
     "metadata": {},
     "output_type": "execute_result"
    }
   ],
   "source": [
    "# Number of combinations.\n",
    "len(combs)"
   ]
  },
  {
   "cell_type": "code",
   "execution_count": null,
   "id": "dc1c8994",
   "metadata": {},
   "outputs": [
    {
     "data": {
      "text/plain": [
       "[2, 5, 9, 10]"
      ]
     },
     "execution_count": 77,
     "metadata": {},
     "output_type": "execute_result"
    }
   ],
   "source": [
    "# Select four cups at random to put milk in first.\n",
    "# https://docs.python.org/3/library/random.html#random.sample\n",
    "labels_milk = random.sample(labels, 4)\n",
    "\n",
    "# Sort, inplace.\n",
    "labels_milk.sort()\n",
    "\n",
    "# Show.\n",
    "labels_milk"
   ]
  },
  {
   "cell_type": "markdown",
   "id": "48ccbd1e",
   "metadata": {},
   "source": [
    "## The Null Hypothesis\n"
   ]
  },
  {
   "cell_type": "markdown",
   "id": "23a7f03e",
   "metadata": {},
   "source": [
    "- The lady has no special power to tell the difference between cups of tea with milk in first and cups of tea with tea in first.\n",
    "\n",
    "- The lady is selecting the four cups from the eight cups at random."
   ]
  },
  {
   "cell_type": "markdown",
   "id": "71a2ad6f",
   "metadata": {},
   "source": [
    "## Alternative Hypothesis\n",
    "\n",
    "- The lady can tell the difference. "
   ]
  },
  {
   "cell_type": "markdown",
   "id": "fa8e91b4",
   "metadata": {},
   "source": [
    "### Evidence\n",
    "\n",
    "Fisher: if the lady is just picking four cups at random, then it is unlikely she will pick the correct four. The probability is one in seventy. It is so unlikely, that I will agree that something non-random is happening when she is selecting the cups of tea. "
   ]
  },
  {
   "cell_type": "code",
   "execution_count": null,
   "id": "6c57e682",
   "metadata": {},
   "outputs": [
    {
     "data": {
      "text/plain": [
       "0.00202020202020202"
      ]
     },
     "execution_count": 78,
     "metadata": {},
     "output_type": "execute_result"
    }
   ],
   "source": [
    "# The probability that she (randomly) selects the four correct cups.\n",
    "1 / 495"
   ]
  },
  {
   "cell_type": "code",
   "execution_count": null,
   "id": "f876ba92",
   "metadata": {},
   "outputs": [
    {
     "data": {
      "text/plain": [
       "0.03434343434343434"
      ]
     },
     "execution_count": 79,
     "metadata": {},
     "output_type": "execute_result"
    }
   ],
   "source": [
    "# The probability that she (randomly) selects at least three correct cups.\n",
    "( 16+ 1) / 495"
   ]
  },
  {
   "cell_type": "markdown",
   "id": "c4cf6898",
   "metadata": {},
   "source": [
    "##  give explanations and insights into your code"
   ]
  },
  {
   "cell_type": "markdown",
   "id": "71804b12",
   "metadata": {},
   "source": [
    "## Problem 2: Normal Distribution"
   ]
  },
  {
   "cell_type": "code",
   "execution_count": null,
   "id": "74e8a2f5",
   "metadata": {},
   "outputs": [],
   "source": [
    "# problem 2: Normal Distribution\n",
    "# Author: Finian Doonan"
   ]
  },
  {
   "cell_type": "markdown",
   "id": "520ab7a1",
   "metadata": {},
   "source": [
    " ## give explanations and insights into your code"
   ]
  },
  {
   "cell_type": "markdown",
   "id": "3316206f",
   "metadata": {},
   "source": [
    "## Problem 3: t-Tests"
   ]
  },
  {
   "cell_type": "code",
   "execution_count": null,
   "id": "de262a40",
   "metadata": {},
   "outputs": [],
   "source": [
    "## problem 3: t-Tests\n",
    "# Author: Finian Doonan"
   ]
  },
  {
   "cell_type": "markdown",
   "id": "7d55b1b0",
   "metadata": {},
   "source": [
    " ## give explanations and insights into your code"
   ]
  },
  {
   "cell_type": "markdown",
   "id": "cdb0b917",
   "metadata": {},
   "source": [
    "## Problem 4: ANOVA"
   ]
  },
  {
   "cell_type": "code",
   "execution_count": null,
   "id": "9a11f716",
   "metadata": {},
   "outputs": [],
   "source": [
    "# problem 4: ANOVA\n",
    "# Author: Finian Doonan"
   ]
  },
  {
   "cell_type": "markdown",
   "id": "9f95fb84",
   "metadata": {},
   "source": [
    "## give explanations and insights into your code"
   ]
  },
  {
   "cell_type": "markdown",
   "id": "ed74483e",
   "metadata": {},
   "source": [
    "# End"
   ]
  }
 ],
 "metadata": {
  "kernelspec": {
   "display_name": "base",
   "language": "python",
   "name": "python3"
  },
  "language_info": {
   "codemirror_mode": {
    "name": "ipython",
    "version": 3
   },
   "file_extension": ".py",
   "mimetype": "text/x-python",
   "name": "python",
   "nbconvert_exporter": "python",
   "pygments_lexer": "ipython3",
   "version": "3.12.3"
  }
 },
 "nbformat": 4,
 "nbformat_minor": 5
}
