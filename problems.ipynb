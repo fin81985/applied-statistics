{
 "cells": [
  {
   "cell_type": "markdown",
   "id": "6017abd3",
   "metadata": {},
   "source": [
    "# Assessment Problems"
   ]
  },
  {
   "cell_type": "markdown",
   "id": "bca75a70",
   "metadata": {},
   "source": [
    "## Problem 1: Extending the Lady Tasting Tea"
   ]
  },
  {
   "cell_type": "code",
   "execution_count": 17,
   "id": "8b175cb5",
   "metadata": {},
   "outputs": [],
   "source": [
    "# problem 1 : Lady Tasting Tea experiment\n",
    "# Author: Finian Doonan"
   ]
  },
  {
   "cell_type": "markdown",
   "id": "205d75b8",
   "metadata": {},
   "source": [
    "### prepare 12 cups: 8 tea-first and 4 milk-first.\n",
    "A participant claims they can tell which was poured first.  \n",
    "Simulate this experiment using `numpy` by randomly shuffling the cups many times and calculating the probability of the participant correctly identifying all cups by chance.\n",
    "Compare your result with the original 8-cup experiment.  "
   ]
  },
  {
   "cell_type": "code",
   "execution_count": 18,
   "id": "70fe3866",
   "metadata": {},
   "outputs": [],
   "source": [
    "\n",
    "# Mathematical functions from the standard library.\n",
    "# https://docs.python.org/3/library/math.html\n",
    "import math\n",
    "\n",
    "# Permutations and combinations.\n",
    "# https://docs.python.org/3/library/itertools.html\n",
    "import itertools\n",
    "\n",
    "# Random selections.\n",
    "# https://docs.python.org/3/library/random.html\n",
    "import random\n",
    "\n",
    "# Numerical structures and operations.\n",
    "# https://numpy.org/doc/stable/reference/index.html#reference\n",
    "import numpy as np\n",
    "\n",
    "# Plotting.\n",
    "# https://matplotlib.org/stable/contents.html\n",
    "import matplotlib.pyplot as plt\n"
   ]
  },
  {
   "cell_type": "code",
   "execution_count": 19,
   "id": "ce821b8a",
   "metadata": {},
   "outputs": [],
   "source": [
    "# Number of cups of tea in total.\n",
    "no_cups = 12\n",
    "\n",
    "# Number of cups of tea with milk in first.\n",
    "no_cups_milk_first = 4\n",
    "\n",
    "# Number of cups of tea with tea in first.\n",
    "no_cups_tea_first = 8\n",
    "no_cups_tea_first = 4"
   ]
  },
  {
   "cell_type": "markdown",
   "id": "de2bbb43",
   "metadata": {},
   "source": [
    "## Formula\n",
    "\n",
    "In mathematics, the `math.comb()` function is called the *choose* function.\n",
    "\n",
    "It is written and calculated as\n",
    "\n",
    "$\\binom{n}{k} = \\frac{n!}{k!(n-k)!}$.\n"
   ]
  },
  {
   "cell_type": "code",
   "execution_count": 20,
   "id": "a400239f",
   "metadata": {},
   "outputs": [],
   "source": [
    "# Number of cups of tea in total.\n",
    "n = 12"
   ]
  },
  {
   "cell_type": "code",
   "execution_count": 21,
   "id": "fbc18584",
   "metadata": {},
   "outputs": [],
   "source": [
    "# Number of cups of tea with milk in first.\n",
    "k = 4"
   ]
  },
  {
   "cell_type": "markdown",
   "id": "e0b5c9f8",
   "metadata": {},
   "source": [
    "## math.factorial\n",
    "\n",
    "https://docs.python.org/3.12/library/math.html#math.factorial\n",
    "\n",
    "Mathematically denoted as `n!`.\n",
    "\n",
    "Multiply all positive integers from `n` down to 1.\n",
    "\n",
    "\n",
    "`n! = n x (n - 1) x (n - 2) x ... x 1`\n",
    "\n",
    "e.g. `5! = 5 x 4 x 3 x 2 x 1 = 120`"
   ]
  },
  {
   "cell_type": "code",
   "execution_count": 22,
   "id": "bf28750b",
   "metadata": {},
   "outputs": [
    {
     "data": {
      "text/plain": [
       "479001600"
      ]
     },
     "execution_count": 22,
     "metadata": {},
     "output_type": "execute_result"
    }
   ],
   "source": [
    "# Eight factorial.\n",
    "math.factorial(n)"
   ]
  },
  {
   "cell_type": "code",
   "execution_count": 23,
   "id": "53c7309f",
   "metadata": {},
   "outputs": [
    {
     "data": {
      "text/plain": [
       "24"
      ]
     },
     "execution_count": 23,
     "metadata": {},
     "output_type": "execute_result"
    }
   ],
   "source": [
    "# Four factorial.\n",
    "math.factorial(k)"
   ]
  },
  {
   "cell_type": "code",
   "execution_count": 24,
   "id": "7a1ba2ca",
   "metadata": {},
   "outputs": [
    {
     "data": {
      "text/plain": [
       "40320"
      ]
     },
     "execution_count": 24,
     "metadata": {},
     "output_type": "execute_result"
    }
   ],
   "source": [
    "# Four factorial.\n",
    "math.factorial(n - k)"
   ]
  },
  {
   "cell_type": "code",
   "execution_count": 25,
   "id": "1df660e2",
   "metadata": {},
   "outputs": [
    {
     "data": {
      "text/plain": [
       "495"
      ]
     },
     "execution_count": 25,
     "metadata": {},
     "output_type": "execute_result"
    }
   ],
   "source": [
    "# No of ways of selecting k objects from n without replacement and without order.\n",
    "math.factorial(n) // (math.factorial(k) * math.factorial(n - k))#"
   ]
  },
  {
   "cell_type": "markdown",
   "id": "48ccbd1e",
   "metadata": {},
   "source": [
    "## The Null Hypothesis\n"
   ]
  },
  {
   "cell_type": "markdown",
   "id": "23a7f03e",
   "metadata": {},
   "source": [
    "- The lady has no special power to tell the difference between cups of tea with milk in first and cups of tea with tea in first.\n",
    "\n",
    "- The lady is selecting the four cups from the eight cups at random."
   ]
  },
  {
   "cell_type": "markdown",
   "id": "71a2ad6f",
   "metadata": {},
   "source": [
    "## Alternative Hypothesis\n",
    "\n",
    "- The lady can tell the difference. "
   ]
  },
  {
   "cell_type": "markdown",
   "id": "fa8e91b4",
   "metadata": {},
   "source": [
    "### Evidence\n",
    "\n",
    "Fisher: if the lady is just picking four cups at random, then it is unlikely she will pick the correct four. The probability is one in seventy. It is so unlikely, that I will agree that something non-random is happening when she is selecting the cups of tea. "
   ]
  },
  {
   "cell_type": "markdown",
   "id": "c4cf6898",
   "metadata": {},
   "source": [
    "##  give explanations and insights into your code"
   ]
  },
  {
   "cell_type": "markdown",
   "id": "71804b12",
   "metadata": {},
   "source": [
    "## Problem 2: Normal Distribution"
   ]
  },
  {
   "cell_type": "code",
   "execution_count": 26,
   "id": "74e8a2f5",
   "metadata": {},
   "outputs": [],
   "source": [
    "# problem 2: Normal Distribution\n",
    "# Author: Finian Doonan"
   ]
  },
  {
   "cell_type": "markdown",
   "id": "520ab7a1",
   "metadata": {},
   "source": [
    " ## give explanations and insights into your code"
   ]
  },
  {
   "cell_type": "markdown",
   "id": "3316206f",
   "metadata": {},
   "source": [
    "## Problem 3: t-Tests"
   ]
  },
  {
   "cell_type": "code",
   "execution_count": 27,
   "id": "de262a40",
   "metadata": {},
   "outputs": [],
   "source": [
    "## problem 3: t-Tests\n",
    "# Author: Finian Doonan"
   ]
  },
  {
   "cell_type": "markdown",
   "id": "7d55b1b0",
   "metadata": {},
   "source": [
    " ## give explanations and insights into your code"
   ]
  },
  {
   "cell_type": "markdown",
   "id": "cdb0b917",
   "metadata": {},
   "source": [
    "## Problem 4: ANOVA"
   ]
  },
  {
   "cell_type": "code",
   "execution_count": 28,
   "id": "9a11f716",
   "metadata": {},
   "outputs": [],
   "source": [
    "# problem 4: ANOVA\n",
    "# Author: Finian Doonan"
   ]
  },
  {
   "cell_type": "markdown",
   "id": "9f95fb84",
   "metadata": {},
   "source": [
    "## give explanations and insights into your code"
   ]
  },
  {
   "cell_type": "markdown",
   "id": "ed74483e",
   "metadata": {},
   "source": [
    "# End"
   ]
  }
 ],
 "metadata": {
  "kernelspec": {
   "display_name": "base",
   "language": "python",
   "name": "python3"
  },
  "language_info": {
   "codemirror_mode": {
    "name": "ipython",
    "version": 3
   },
   "file_extension": ".py",
   "mimetype": "text/x-python",
   "name": "python",
   "nbconvert_exporter": "python",
   "pygments_lexer": "ipython3",
   "version": "3.12.3"
  }
 },
 "nbformat": 4,
 "nbformat_minor": 5
}
